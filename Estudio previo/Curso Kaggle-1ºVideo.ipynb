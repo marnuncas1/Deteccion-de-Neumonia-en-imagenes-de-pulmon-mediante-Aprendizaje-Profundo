{
 "cells": [
  {
   "cell_type": "markdown",
   "metadata": {},
   "source": [
    "**[Deep Learning Home Page](https://www.kaggle.com/learn/deep-learning)**\n",
    "\n",
    "---\n"
   ]
  },
  {
   "cell_type": "markdown",
   "metadata": {},
   "source": [
    "# Intro\n",
    "\n",
    "You don't directly choose the numbers to go into your convolutions for deep learning... instead the deep learning technique determines what convolutions will be useful from the data (as part of model-training). We'll come back to how the model does that soon.\n",
    "\n",
    "![Imgur](https://i.imgur.com/op9Maqr.png)\n",
    "\n",
    "But looking closely at convolutions and how they are applied to your image will improve your intuition for these models, how they work, and how to debug them when they don't work.\n",
    "\n",
    "**Let's get started.**\n",
    "\n",
    "# Exercises\n",
    "We'll use some small utilty functions to visualize raw images and some results of your code. Execute the next cell to load the utility functions."
   ]
  },
  {
   "cell_type": "markdown",
   "metadata": {},
   "source": [
    "No eliges directamente los números que van a tus convoluciones para el aprendizaje profundo ... en cambio, la técnica de aprendizaje profundo determina qué convoluciones serán útiles a partir de los datos (como parte del entrenamiento modelo). Volveremos a cómo la modelo hace eso pronto.\n",
    "\n",
    "Pero mirar de cerca las circunvoluciones y cómo se aplican a su imagen mejorará su intuición para estos modelos, cómo funcionan y cómo depurarlos cuando no funcionan.\n",
    "\n",
    "Empecemos.\n",
    "\n",
    "Utilizaremos algunas funciones de utilidad pequeñas para visualizar imágenes en bruto y algunos resultados de su código. Ejecute la siguiente celda para cargar las funciones de utilidad."
   ]
  },
  {
   "cell_type": "code",
   "execution_count": null,
   "metadata": {},
   "outputs": [],
   "source": [
    "# Set up code checking\n",
    "from learntools.core import binder\n",
    "binder.bind(globals())\n",
    "from learntools.deep_learning.exercise_1 import *\n",
    "print(\"Setup Complete\")"
   ]
  },
  {
   "cell_type": "markdown",
   "metadata": {},
   "source": [
    "### Exercise 1\n",
    "\n",
    "In the video, you saw a convolution that detected horizontal lines. That convolution shows up again in the code cell below.\n",
    "\n",
    "Run the cell to see a raw image as well as the output from applying this convolution to the image.\n"
   ]
  },
  {
   "cell_type": "markdown",
   "metadata": {},
   "source": [
    "En el video, viste una convolución que detectó líneas horizontales. Esa convolución se muestra nuevamente en la celda de código a continuación.\n",
    "\n",
    "Ejecute la celda para ver una imagen en bruto, así como la salida de la aplicación de esta convolución a la imagen."
   ]
  },
  {
   "cell_type": "code",
   "execution_count": null,
   "metadata": {},
   "outputs": [],
   "source": [
    "horizontal_line_conv = [[1, 1], \n",
    "                        [-1, -1]]\n",
    "# load_my_image and visualize_conv are utility functions provided for this exercise\n",
    "original_image = load_my_image() \n",
    "visualize_conv(original_image, horizontal_line_conv)"
   ]
  },
  {
   "cell_type": "markdown",
   "metadata": {},
   "source": [
    "Now it's your turn. Instead of a horizontal line detector, you will create a vertical line detector.\n",
    "**Replace the underscores with numbers to make a vertical line detector and uncomment both lines of code in the cell below. Then run **\n",
    "\n",
    "Ahora es tu turno. En lugar de un detector de línea horizontal, creará un detector de línea vertical.\n",
    "Reemplace los guiones bajos con números para hacer un detector de línea vertical y descomente ambas líneas de código en la celda de abajo. Entonces corre"
   ]
  },
  {
   "cell_type": "code",
   "execution_count": null,
   "metadata": {},
   "outputs": [],
   "source": [
    "vertical_line_conv = [[1,-1],[1,-1]]\n",
    "\n",
    "# Check your answer\n",
    "q_1.check()\n",
    "visualize_conv(original_image, vertical_line_conv)"
   ]
  },
  {
   "cell_type": "markdown",
   "metadata": {},
   "source": [
    "If you'd like a hint or the solution, uncomment the appropriate line below.\n",
    "\n",
    "Si desea una pista o la solución, descomente la línea correspondiente a continuación."
   ]
  },
  {
   "cell_type": "code",
   "execution_count": null,
   "metadata": {},
   "outputs": [],
   "source": [
    "q_1.hint()\n",
    "q_1.solution()"
   ]
  },
  {
   "cell_type": "markdown",
   "metadata": {},
   "source": [
    "### Exercise 2\n",
    "The convolutions you've seen are 2x2.  But you could have larger convolutions. They could be 3x3, 4x4, etc.  They don't even have to be square. Nothing prevents using a 4x7 convolution.\n",
    "\n",
    "Compare the number of visual patterns that can be captured by small convolutions. Which of the following is true?\n",
    "\n",
    "- There are more visual patterns that can be captured by large convolutions\n",
    "- There are fewer visual patterns that can be captured by large convolutions\n",
    "- The number of visual patterns that can be captured by large convolutions is the same as the number of visual patterns that can be captured by small convolutions?\n",
    "\n",
    "Once you think you know the answer, check it by uncommenting and running the line below.\n",
    "\n",
    "\n",
    "Las circunvoluciones que has visto son 2x2. Pero podrías tener convoluciones más grandes. Podrían ser 3x3, 4x4, etc. Ni siquiera tienen que ser cuadrados. Nada impide usar una convolución 4x7.\n",
    "\n",
    "Compare la cantidad de patrones visuales que pueden capturarse mediante pequeñas convoluciones. ¿Cual de los siguientes es verdadero?\n",
    "\n",
    "    - Hay más patrones visuales que pueden ser capturados por grandes convoluciones\n",
    "    - Hay menos patrones visuales que pueden ser capturados por grandes convoluciones\n",
    "    - ¿El número de patrones visuales que pueden capturarse mediante grandes convoluciones es el mismo que el número de patrones visuales que pueden capturarse mediante pequeñas convoluciones?\n",
    "    \n",
    "Una vez que piense que sabe la respuesta, verifíquela descomentando y ejecutando la línea a continuación."
   ]
  },
  {
   "cell_type": "markdown",
   "metadata": {},
   "source": [
    "# Check your answer (Run this code cell to receive credit!)\n",
    "q_2.solution()\n",
    "\n",
    "Si bien cualquier convolución mide solo un patrón, hay más convoluciones posibles que se pueden crear con tamaños grandes. Por lo tanto, también hay más patrones que se pueden capturar con grandes convoluciones.\n",
    "\n",
    "Por ejemplo, es posible crear una convolución de 3x3 que filtre los píxeles brillantes con uno oscuro en el medio. No existe una configuración de convolución 2x2 que capture esto.\n",
    "\n",
    "Por otro lado, cualquier cosa que pueda ser capturada por una convolución 2x2 también podría ser capturada por una convolución 3x3.\n",
    "\n",
    "¿Significa esto que los modelos potentes requieren convoluciones extremadamente grandes? No necesariamente. En la próxima lección, verá cómo los modelos de aprendizaje profundo unen muchas convoluciones para capturar patrones complejos ... incluyendo patrones a complejos para ser capturados por cualquier convolución."
   ]
  },
  {
   "cell_type": "code",
   "execution_count": null,
   "metadata": {},
   "outputs": [],
   "source": [
    "# Check your answer (Run this code cell to receive credit!)\n",
    "q_2.solution()"
   ]
  },
  {
   "cell_type": "markdown",
   "metadata": {},
   "source": [
    "# Keep Going\n",
    "Now you are ready to **[combine convolutions into powerful models](https://www.kaggle.com/dansbecker/building-models-from-convolutions).** These models are fun to work with, so keep going.\n"
   ]
  },
  {
   "cell_type": "markdown",
   "metadata": {},
   "source": [
    "---\n",
    "**[Deep Learning Home Page](https://www.kaggle.com/learn/deep-learning)**\n",
    "\n",
    "\n",
    "\n",
    "\n",
    "\n",
    "*Have questions or comments? Visit the [Learn Discussion forum](https://www.kaggle.com/learn-forum) to chat with other Learners.*"
   ]
  }
 ],
 "metadata": {
  "kernelspec": {
   "display_name": "Python 3",
   "language": "python",
   "name": "python3"
  },
  "language_info": {
   "codemirror_mode": {
    "name": "ipython",
    "version": 3
   },
   "file_extension": ".py",
   "mimetype": "text/x-python",
   "name": "python",
   "nbconvert_exporter": "python",
   "pygments_lexer": "ipython3",
   "version": "3.7.4"
  }
 },
 "nbformat": 4,
 "nbformat_minor": 4
}
