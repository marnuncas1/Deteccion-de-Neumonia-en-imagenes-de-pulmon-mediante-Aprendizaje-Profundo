{
 "cells": [
  {
   "cell_type": "markdown",
   "metadata": {},
   "source": [
    "**[Deep Learning Home Page](https://www.kaggle.com/learn/deep-learning)**\n",
    "\n",
    "---\n"
   ]
  },
  {
   "cell_type": "markdown",
   "metadata": {},
   "source": [
    "Las imagenes se encuentran en este directorio:\n",
    "\n",
    "**dog_image_dir='directorio'**\n",
    "\n",
    "Archivos para probar o modelar y pongo el archivo en una lista \n",
    "\n",
    "**image_filenames=['imagen1.jpg', 'imagen2.jpg']**\n",
    "\n",
    "Y luego eso la funcion para unirse a la ruta del sistema operativo Python para agregar el nombre del archivo al directorio\n",
    "\n",
    "**img_paths=[join(dog_image_dir, filename) for filename in image_filenames]**\n",
    "\n",
    "El resultado final es una lista de rutas a los archivos de imagen\n",
    "\n",
    "\n",
    "**from tensorflow.python.keras.applications.resnet50 import preprocess_input**\n",
    "\n",
    "**from tensorflow-python.keras.preprocessing.image import load_img, img_to_array**\n",
    "\n",
    "**def read_and_prep_images(img_paths, img_height=image_size, img_width=image_size):**\n",
    "\n",
    "Mantenemos las imagenes por ahora usando una comprension de la lista, el argumento de tamaño objetivo especifica el tamaño o pixeles, la resolucion que queremos que tengan las imagenes \n",
    "\n",
    "    **imgs = [load_img(img_path, target_size=(img_height, img_width)) for img_path in img_paths]**\n",
    "    \n",
    "Convertimos cada imagen en una matriz\n",
    "\n",
    "    **img_array = np.array([img_to_array(img) for img in imgs])**\n",
    "Sobre esta matriz aplicamos la funcion llamada preproceso, esta hace algo de aritmetica en los valores de pixeles dividiendo especificamente los valores de la entrada para que esten todos entre -1 y 1 \n",
    "\n",
    "   **output = preprocess_input(img_array)**\n",
    "   \n",
    "    **return(output)**\n",
    "    \n",
    "En este caso usamos el modelo ResNet50 le doy un argumento, el archivo especifico, ruta donde almacenaremos los valores en los filtros convolucionales que llamaremos\n",
    "\n",
    "**my_model=ResNet50(weights='directorio')**\n",
    "\n",
    "Funcion para leer y procesar los datos \n",
    "\n",
    "**test_data=read_and_prep_images(img_paths)**\n",
    "\n",
    "Luego obtendremos predicciones, llamando al metodo de prediccion de nuestro modelo, esta linea funciona de la misma manera\n",
    "\n",
    "**preds=my_model.predict(test_data)**\n",
    "\n",
    "decode_predictions extrae las mayores probabilidaades para cada imagen que llamamos, funciona con los resultados de la prediccion y le dice que nos de la cima, tres probabilidades para cada foto\n",
    "\n",
    "**most_likely_labels=decode_predictions(preds, top=3)**\n",
    "\n",
    "\n",
    "RESNET50\n",
    "- En este notebook hemos usado aplicaciones de jeras son modelos de aprendizaje profundo disponibles con pesos pre-entrenados. Estos modelos se pueden usar para una prediccion, extracción de caracteristicas y ajuste.\n",
    "- Los pesos se descargan automaticamente cuando se crea una instancia de un modelo. Se almacena en /.keras/models/\n",
    "- El modelo ResNet50 con pesas preentrenadas en ImageNet\n",
    "- Este modelo se puede construir con channels-first y channels-last.\n",
    "- El tamaño de entrada predeterminado para este modelo es 224x224\n",
    "- Argumentos que tiene el método:\n",
    "    - include_top: si se incluye una capa utilizadas en la red de entrenamiento ImageNet.\n",
    "    - weight:  none(pesos con iniciación aleatoria) o imagener(pesos de pre-entrenamiento en ImageNet)\n",
    "    - input_tensor:tensor keras opcional (es decir salida de layers.Input()) para usar como entrada de imagen para el modelo\n",
    "    - input_shape: tupla de forma opcional, solo se especifica si include_top=false (de lo contrario la forma de entrada debe ser (224,224,3) con channel_last o (3,224,224) con channel_first). deben ser exactamente 3 canales de entrada y el ancho y la altura no debe ser menor que 32 por ejemplo (200, 200, 3) valdria.\n",
    "    - agrupacion:nodo de agrupacion opcional para la extraccion de caracteristicas cuando include_top=false\n",
    "        - none: significa que la salida del modelo sera la salida del tensor 4D del bloque convolucional\n",
    "        - avg: significa que la agrupacion promedio global se aplicara a la salida del ultimo bloque convolucional y por tanto la salida del modelo sera un tensor 2D.\n",
    "        - max: significa que se aplicara la agrupacion maxima global\n",
    "    - clases: numero opcional de clases para clasidicar imagenes, solo para especificar si include_top=true y si no weights se especifica ningun argumento\n",
    "\n"
   ]
  },
  {
   "cell_type": "markdown",
   "metadata": {},
   "source": [
    "# Intro\n",
    "The TV show *Silicon Valley* had an app called \"See Food\" that promised to identify food. \n",
    "\n",
    "In this notebook, you will write code using and comparing pre-trained models to choose one as an engine for the See Food app.\n",
    "\n",
    "You won't go too deep into Keras or TensorFlow details in this particular exercise.  Don't worry. You'll go deeper into model development soon.  For now, you'll make sure you know how to use pre-trained models.\n",
    "\n",
    "\n",
    "\n",
    "El programa de televisión Silicon Valley tenía una aplicación llamada \"Ver Alimentos\" que prometía identificar los alimentos.\n",
    "\n",
    "En este cuaderno, escribirás el código usando y comparando modelos pre-entrenados para elegir uno como motor para la aplicación \"See Food\".\n",
    "\n",
    "No profundizarás demasiado en los detalles de Keras o TensorFlow en este ejercicio en particular. No se preocupen. Pronto profundizarás en el desarrollo de modelos. Por ahora, te asegurarás de que sabes cómo usar los modelos pre-entrenados.\n",
    "\n",
    "# Set-Up"
   ]
  },
  {
   "cell_type": "markdown",
   "metadata": {},
   "source": [
    "We will run a few steps of environmental set-up before writing your own code. **You don't need to understand the details of this set-up code.** You can just run each code cell until you get to the exercises.\n",
    "\n",
    "### 1) Create Image Paths\n",
    "This workspace includes image files you will use to test your models. Run the cell below to store a few filepaths to these images in a variable `img_paths`."
   ]
  },
  {
   "cell_type": "code",
   "execution_count": null,
   "metadata": {},
   "outputs": [],
   "source": [
    "import os\n",
    "from os.path import join\n",
    "\n",
    "\n",
    "hot_dog_image_dir = '../input/hot-dog-not-hot-dog/seefood/train/hot_dog'\n",
    "\n",
    "hot_dog_paths = [join(hot_dog_image_dir,filename) for filename in \n",
    "                            ['1000288.jpg',\n",
    "                             '127117.jpg']]\n",
    "\n",
    "not_hot_dog_image_dir = '../input/hot-dog-not-hot-dog/seefood/train/not_hot_dog'\n",
    "not_hot_dog_paths = [join(not_hot_dog_image_dir, filename) for filename in\n",
    "                            ['823536.jpg',\n",
    "                             '99890.jpg']]\n",
    "\n",
    "img_paths = hot_dog_paths + not_hot_dog_paths"
   ]
  },
  {
   "cell_type": "markdown",
   "metadata": {},
   "source": [
    "### 2) Run an Example Model\n",
    "Here is the code you saw in the tutorial. It loads data, loads a pre-trained model, and makes predictions. Run this cell too."
   ]
  },
  {
   "cell_type": "code",
   "execution_count": null,
   "metadata": {},
   "outputs": [],
   "source": [
    "from IPython.display import Image, display\n",
    "from learntools.deep_learning.decode_predictions import decode_predictions\n",
    "import numpy as np\n",
    "from tensorflow.keras.applications.resnet50 import preprocess_input\n",
    "from tensorflow.keras.applications import ResNet50\n",
    "from tensorflow.keras.preprocessing.image import load_img, img_to_array\n",
    "\n",
    "\n",
    "image_size = 224\n",
    "\n",
    "def read_and_prep_images(img_paths, img_height=image_size, img_width=image_size):\n",
    "    imgs = [load_img(img_path, target_size=(img_height, img_width)) for img_path in img_paths]\n",
    "    img_array = np.array([img_to_array(img) for img in imgs])\n",
    "    output = preprocess_input(img_array)\n",
    "    return(output)\n",
    "\n",
    "\n",
    "my_model = ResNet50(weights='../input/resnet50/resnet50_weights_tf_dim_ordering_tf_kernels.h5')\n",
    "test_data = read_and_prep_images(img_paths)\n",
    "preds = my_model.predict(test_data)\n",
    "\n",
    "most_likely_labels = decode_predictions(preds, top=3)"
   ]
  },
  {
   "cell_type": "markdown",
   "metadata": {},
   "source": [
    "### 3) Visualize Predictions"
   ]
  },
  {
   "cell_type": "code",
   "execution_count": null,
   "metadata": {},
   "outputs": [],
   "source": [
    "for i, img_path in enumerate(img_paths):\n",
    "    display(Image(img_path))\n",
    "    print(most_likely_labels[i])"
   ]
  },
  {
   "cell_type": "markdown",
   "metadata": {},
   "source": [
    "### 4) Set Up Code Checking\n",
    "As a last step before writing your own code, run the following cell to enable feedback on your code."
   ]
  },
  {
   "cell_type": "code",
   "execution_count": null,
   "metadata": {},
   "outputs": [],
   "source": [
    "# Set up code checking\n",
    "from learntools.core import binder\n",
    "binder.bind(globals())\n",
    "from learntools.deep_learning.exercise_3 import *\n",
    "print(\"Setup Complete\")"
   ]
  },
  {
   "cell_type": "markdown",
   "metadata": {},
   "source": [
    "# Exercises\n",
    "\n",
    "You will write a couple useful functions in the next exercises. Then you will put these functions together to compare the effectiveness of various pretrained models for your hot-dog detection program.\n",
    "\n",
    "### Exercise 1\n",
    "\n",
    "We want to distinguish whether an image is a hot dog or not. But our models classify pictures into 1000 different categories. Write a function that takes the models predictions (in the same format as `preds` from the set-up code) and returns a list of `True` and `False` values.\n",
    "\n",
    "Some tips:\n",
    "- Work iteratively. Figure out one line at a time outsie the function, and print that line's output to make sure it's right. Once you have all the code you need, move it into the function `is_hot_dog`. If you get an error, check that you have copied the right code and haven't left anything out.\n",
    "- The raw data we loaded in `img_paths` had two images of hot dogs, followed by two images of other foods. So, if you run your function on `preds`, which represents the output of the model on these images, your function should return `[True, True, False, False]`.\n",
    "- You will want to use the `decode_predictions` function that was also used in the code provided above. We provided a line with this in the code cell to get you started.\n",
    "\n",
    "# Ejercicios\n",
    "\n",
    "Escribirá un par de funciones útiles en los próximos ejercicios. Luego juntarás estas funciones para comparar la efectividad de varios modelos preentrenados para tu programa de detección de hot-dogs.\n",
    "\n",
    "### Ejercicio 1\n",
    "\n",
    "Queremos distinguir si una imagen es un perrito caliente o no. Pero nuestros modelos clasifican las imágenes en 1000 categorías diferentes. Escribe una función que tome las predicciones de los modelos (en el mismo formato que \"Preds\" del código de configuración) y devuelva una lista de valores \"Verdaderos\" y \"Falsos\".\n",
    "\n",
    "Algunos consejos:\n",
    "- Trabaja de forma iterativa. Calcula una línea a la vez fuera de la función, e imprime la salida de esa línea para asegurarte de que es correcta. Una vez que tengas todo el código que necesites, muévelo a la función \"is_hot_dog\". Si obtienes un error, comprueba que has copiado el código correcto y no has dejado nada fuera.\n",
    "- Los datos en bruto que cargamos en `img_paths` tenían dos imágenes de perritos calientes, seguidas de dos imágenes de otros alimentos. Por lo tanto, si ejecutas tu función en `preds`, que representa la salida del modelo en estas imágenes, tu función debería devolver `[Verdadero, Verdadero, Falso, Falso]`.\n",
    "- Querrás usar la función `decode_predictions` que también se usó en el código proporcionado anteriormente. Proporcionamos una línea con esto en la celda de código para que puedas empezar.\n",
    "\n",
    "\n",
    "\n",
    "\n"
   ]
  },
  {
   "cell_type": "code",
   "execution_count": null,
   "metadata": {},
   "outputs": [],
   "source": [
    "# Experiment with code outside the function, then move it into the function once you think it is right\n",
    "\n",
    "# the following lines are given as a hint to get you started\n",
    "decoded = decode_predictions(preds, top=1)\n",
    "print(decoded)\n",
    "\n",
    "def is_hot_dog(preds):\n",
    " \n",
    "    decoded = decode_predictions(preds, top=1)\n",
    "\n",
    "    # pull out predicted label, which is in d[0][1] due to how decode_predictions structures results\n",
    "    labels = [d[0][1] for d in decoded]\n",
    "    out = [l == 'hotdog' for l in labels]\n",
    "    return out\n",
    "    #pass\n",
    "    \n",
    "# Check your answer\n",
    "q_1.check()"
   ]
  },
  {
   "cell_type": "markdown",
   "metadata": {},
   "source": [
    "If you'd like to see a hint or the solution, uncomment the appropriate line below.\n",
    "\n",
    "**If you did not get a working solution, copy the solution code into your code cell above and run it. You will need this function for the next step.**"
   ]
  },
  {
   "cell_type": "code",
   "execution_count": null,
   "metadata": {},
   "outputs": [],
   "source": [
    "q_1.hint()\n",
    "q_1.solution()"
   ]
  },
  {
   "cell_type": "markdown",
   "metadata": {},
   "source": [
    "Solution:\n",
    "\n",
    "\n",
    "def is_hot_dog(preds):\n",
    "    decoded = decode_predictions(preds, top=1)\n",
    "\n",
    "    # pull out predicted label, which is in d[0][1] due to how decode_predictions structures results\n",
    "    labels = [d[0][1] for d in decoded]\n",
    "    out = [l == 'hotdog' for l in labels]\n",
    "    return out"
   ]
  },
  {
   "cell_type": "markdown",
   "metadata": {},
   "source": [
    "### Exercise 2: Evaluate Model Accuracy\n",
    "\n",
    "You have a model (called `my_model`). Is it good enough to build your app around? \n",
    "\n",
    "Find out by writing a function that calculates a model's accuracy (fraction correct). You will try an alternative model in the next step. So we will put this logic in a reusable function that takes data and the model as arguments, and returns the accuracy.\n",
    "\n",
    "Tips:\n",
    "\n",
    " - Use the `is_hot_dog` function from above to help write your function\n",
    " - To save you some scrolling, here is the code from above where we used a TensorFlow model to make predictions:\n",
    "\n",
    "```\n",
    "my_model = ResNet50(weights='../input/resnet50/resnet50_weights_tf_dim_ordering_tf_kernels.h5')\n",
    "test_data = read_and_prep_images(img_paths)\n",
    "preds = my_model.predict(test_data)\n",
    "```\n",
    "**Ejercicio 2: Evaluar la precisión del modelo**\n",
    "Tienes un modelo (llamado mi_modelo). ¿Es lo suficientemente bueno para construir tu aplicación?\n",
    "\n",
    "Averígualo escribiendo una función que calcule la precisión de un modelo (fracción correcta). Intentarás un modelo alternativo en el siguiente paso. Así que pondremos esta lógica en una función reutilizable que toma los datos y el modelo como argumentos, y devuelve la precisión.\n",
    "\n",
    "Consejos:\n",
    "\n",
    "Usa la función is_hot_dog de arriba para ayudar a escribir tu función\n",
    "Para ahorrarle el desplazamiento, aquí está el código de arriba donde usamos un modelo de TensorFlow para hacer predicciones:\n",
    "mi_modelo = ResNet50(pesos='../input/resnet50/resnet50_pesos_tf_dim_ordenación_tf_kernels.h5')\n",
    "test_data = read_and_prep_images(img_paths)\n",
    "preds = my_model.predict(test_data)"
   ]
  },
  {
   "cell_type": "code",
   "execution_count": null,
   "metadata": {},
   "outputs": [],
   "source": [
    "def calc_accuracy(model, paths_to_hotdog_images, paths_to_other_images):\n",
    "    num_hot_dog_images= len(paths_to_hotdog_images)\n",
    "    num_other_images= len(paths_to_other_images)\n",
    "    \n",
    "    hotdog_images_data=read_and_prep_images(paths_to_hotdog_images)\n",
    "    other_imeges_data=read_and_prep_images(paths_to_other_images)\n",
    "    \n",
    "    preds_hotdog=model.predict(hotdog_images_data)\n",
    "    num_correct_hotdog=sum(is_hot_dog(preds_hotdog))\n",
    "    \n",
    "    preds_other=model.predict(other_imeges_data)\n",
    "    num_correct_other= num_other_images - sum(is_hot_dog(preds_other))\n",
    "    \n",
    "    bien_class= num_correct_other + num_correct_hotdog\n",
    "    total_predict=num_hot_dog_images + num_other_images\n",
    "    \n",
    "    return bien_class/total_predict\n",
    "\n",
    "# Code to call calc_accuracy.  my_model, hot_dog_paths and not_hot_dog_paths were created in the setup code\n",
    "my_model_accuracy = calc_accuracy(my_model, hot_dog_paths, not_hot_dog_paths)\n",
    "print(\"Fraction correct in small test set: {}\".format(my_model_accuracy))\n",
    "\n",
    "# Check your answer\n",
    "q_2.check()"
   ]
  },
  {
   "cell_type": "markdown",
   "metadata": {},
   "source": [
    "If you'd like a hint or the solution, uncomment the appropriate line below"
   ]
  },
  {
   "cell_type": "code",
   "execution_count": null,
   "metadata": {},
   "outputs": [],
   "source": [
    "q_2.hint()\n",
    "q_2.solution()"
   ]
  },
  {
   "cell_type": "markdown",
   "metadata": {},
   "source": [
    "### Exercise 3:\n",
    "There are other models besides the ResNet model (which we have loaded). For example, an earlier winner of the ImageNet competition is the VGG16 model.  Don't worry about the differences between these models yet. We'll come back to that later. For now, just focus on the mechanics of applying these models to a problem.\n",
    "\n",
    "The code used to load a pretrained ResNet50 model was\n",
    "\n",
    "```\n",
    "my_model = ResNet50(weights='../input/resnet50/resnet50_weights_tf_dim_ordering_tf_kernels.h5')\n",
    "```\n",
    "\n",
    "The weights for the model are stored at `../input/vgg16/vgg16_weights_tf_dim_ordering_tf_kernels.h5`.\n",
    "\n",
    "In the cell below, create a VGG16 model with the preloaded weights. Then use your `calc_accuracy` function to determine what fraction of images the VGG16 model correctly classifies.  Is it better or worse than the pretrained ResNet model?"
   ]
  },
  {
   "cell_type": "code",
   "execution_count": null,
   "metadata": {},
   "outputs": [],
   "source": [
    "# import the model\n",
    "from tensorflow.keras.applications import VGG16\n",
    "vgg16_model = VGG16('../input/vgg16/vgg16_weights_tf_dim_ordering_tf_kernels.h5')\n",
    "vgg16_accuracy = calc_accuracy(vgg16_model, hot_dog_paths, not_hot_dog_paths)\n",
    "\n",
    "print(\"Fraction correct in small dataset: {}\".format(vgg16_accuracy))\n",
    "\n",
    "\n",
    "# Check your answer\n",
    "q_3.check()"
   ]
  },
  {
   "cell_type": "markdown",
   "metadata": {},
   "source": [
    "Uncomment the appropriate line below if you'd like a hint or the solution"
   ]
  },
  {
   "cell_type": "code",
   "execution_count": null,
   "metadata": {},
   "outputs": [],
   "source": [
    "q_3.hint()\n",
    "q_3.solution()"
   ]
  },
  {
   "cell_type": "markdown",
   "metadata": {},
   "source": [
    "from tensorflow.keras.applications import VGG16\n",
    "vgg16_model = VGG16('../input/vgg16/vgg16_weights_tf_dim_ordering_tf_kernels.h5')\n",
    "vgg16_accuracy = calc_accuracy(vgg16_model, hot_dog_paths, not_hot_dog_paths)"
   ]
  },
  {
   "cell_type": "markdown",
   "metadata": {},
   "source": [
    "If this model is used for an app that runs on a phone, what factors besides accuracy might you care about? After you've thought about it, keep going below."
   ]
  },
  {
   "cell_type": "markdown",
   "metadata": {},
   "source": [
    "# Keep Going\n",
    "You are ready for **[Transfer Learning](https://www.kaggle.com/dansbecker/transfer-learning/)**, which will allow you to apply the same level of power for your custom purposes.\n"
   ]
  },
  {
   "cell_type": "markdown",
   "metadata": {},
   "source": [
    "---\n",
    "**[Deep Learning Home Page](https://www.kaggle.com/learn/deep-learning)**\n",
    "\n",
    "\n",
    "\n",
    "\n",
    "\n",
    "*Have questions or comments? Visit the [Learn Discussion forum](https://www.kaggle.com/learn-forum) to chat with other Learners.*"
   ]
  }
 ],
 "metadata": {
  "kernelspec": {
   "display_name": "Python 3",
   "language": "python",
   "name": "python3"
  },
  "language_info": {
   "codemirror_mode": {
    "name": "ipython",
    "version": 3
   },
   "file_extension": ".py",
   "mimetype": "text/x-python",
   "name": "python",
   "nbconvert_exporter": "python",
   "pygments_lexer": "ipython3",
   "version": "3.7.4"
  }
 },
 "nbformat": 4,
 "nbformat_minor": 4
}
